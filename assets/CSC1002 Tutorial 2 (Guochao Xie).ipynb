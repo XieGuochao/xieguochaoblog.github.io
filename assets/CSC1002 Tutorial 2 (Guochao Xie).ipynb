{
 "cells": [
  {
   "cell_type": "markdown",
   "metadata": {},
   "source": [
    "---\n",
    "title: CSC1002 Tutorial 2 (Guochao Xie)\n",
    "author: Guochao Xie\n",
    "date: 2020-02-06\n",
    "\n",
    "---"
   ]
  },
  {
   "cell_type": "markdown",
   "metadata": {},
   "source": [
    "# CSC1002 Tutorial 2 (Guochao Xie)\n",
    "\n",
    "**_I would prefer a coding-based teaching style. Please have your Visual Studio Code or Jupyter Notebook ready._**\n",
    "\n",
    "## Table of Contents\n",
    "\n",
    "- [Main Contents](#main-contents)\n",
    "    - [Part 1](#part-1)\n",
    "        - [Variables and Values](#variables-and-values)\n",
    "        - [Types of Values](#types-of-values)\n",
    "        - [Operations and Operators](#operations-and-operators)\n",
    "        - [Type Conversions](#type-conversions)\n",
    "        - [Input and Output](#input-and-output)\n",
    "        - [Exercise 1](#exercise-1)\n",
    "    - [Part 2](#part-2)\n",
    "        - [Conditional Statement](#conditional-statement)\n",
    "        - [Exercise 2](#exercise-2)\n",
    "    - [Part 3](#part-3)\n",
    "        - [String](#string)\n",
    "        - [List](#list)\n",
    "        - [Range](#range)\n",
    "        - [Loop Statement](#loop-statement)\n",
    "        - [Exercise 3](#exercise-3)\n",
    "- [Supplemental Contents](#supplemental-contents)\n",
    "- [References](#references)"
   ]
  },
  {
   "cell_type": "markdown",
   "metadata": {},
   "source": [
    "# Main Contents"
   ]
  },
  {
   "cell_type": "markdown",
   "metadata": {},
   "source": [
    "## Part 1"
   ]
  },
  {
   "cell_type": "markdown",
   "metadata": {},
   "source": [
    "### Variables and Values\n",
    "\n",
    "What is variables and values? Let me use an example to illustrate.\n",
    "\n",
    "Suppose David and Jasmine both have a bank account respectively.\n",
    "\n",
    "Initially, both accounts have 0 balance.\n",
    "\n",
    "```python\n",
    "David = 0\n",
    "Jasmine = 0\n",
    "```\n",
    "\n",
    "On the first day, David deposits 1000 and Jasmine deposits 10.\n",
    "\n",
    "```python\n",
    "David = 1000\n",
    "Jasmine = 10\n",
    "```\n",
    "\n",
    "Now, David has more money than Jasmine since `1000 > 10`.\n",
    "\n",
    "```python\n",
    "David > Jasmine\n",
    "1000 > 10\n",
    "```\n",
    "\n",
    "On the second day, David transfers 520 to Jasmine.\n",
    "\n",
    "```python\n",
    "David -= 520\n",
    "Jasmine += 520\n",
    "```\n",
    "\n",
    "So, how many money do David and Jasmine own? David now owns 480 and Jasmine owns 530.\n",
    "\n",
    "```python\n",
    "David == 480\n",
    "Jasmine == 530\n",
    "```\n",
    "\n",
    "Which one is greater, David's balance or Jasmine's? Because `530 > 480`, we will have Jasmine owning more money.\n",
    "\n",
    "```python\n",
    "David < Jasmine\n",
    "480 < 530\n",
    "```\n",
    "\n",
    "From the example above, which ones of the following are _variables_ or _values_?\n",
    "\n",
    "1. _David_\n",
    "2. _Jasmine_\n",
    "3. _10_\n",
    "4. _1000_\n",
    "5. _520_\n",
    "6. _480_\n",
    "7. _530_\n",
    "\n",
    "The solution is that only _David_ and _Jasmine_ are _variables_, and all remainings are _values_.\n",
    "\n",
    "Do you see the difference?\n",
    "\n",
    "_Variables_ resemble _containers_ and _values_ resemble the items put in _containers_. We use _variables_ to store values (in memory) and do operations. We can assign a _value_ to a _variable_ like filling a bottle with water, but we cannot assign a _variable_ to a _value_ because the water itself cannot have an ego of a bottle.\n",
    "\n",
    "(-3 mins)"
   ]
  },
  {
   "cell_type": "markdown",
   "metadata": {},
   "source": [
    "### Types of Values\n",
    "\n",
    "Values have different types. There are 5 standard data types:\n",
    "\n",
    "- Numbers\n",
    "- String\n",
    "- List\n",
    "- Tuple\n",
    "- Dictionary\n",
    "\n",
    "Within each types, there are several subtypes. For example, types belonging to _Numbers_ include _int_ (integer 整数), _float_ (floating point value 小数), _complex_ (complex number 复数), etc. It is not required to remember all types of Python, but more importantly, we need to know how to manipulate variables containing different types.\n",
    "\n",
    "Now, let's do an experiment: check the type!\n",
    "\n",
    "`type` is a built-in function (or you can think it is a _keyword_ now). It can present the type of a value to you. The usage is simple:\n",
    "\n",
    "```python\n",
    "type( VALUE )\n",
    "```\n",
    "\n",
    "where you replace **VALUE** as the value you would like to check.\n",
    "\n",
    "Try to guess what is the output of the following code, then type and execute it. Compare your guess with the execution result."
   ]
  },
  {
   "cell_type": "code",
   "execution_count": null,
   "metadata": {},
   "outputs": [],
   "source": [
    "print(type(1))\n",
    "print(type(0))\n",
    "print(type(0.0))\n",
    "print(type(\"Hello\"))\n",
    "\n",
    "David = 100\n",
    "print(type(David))\n",
    "\n",
    "David = [1, 2, 3]\n",
    "print(type(David))\n",
    "\n",
    "David = tuple(David)\n",
    "print(David)\n",
    "print(type(David))\n",
    "\n",
    "David = {\"name\": \"David\"}\n",
    "print(David)\n",
    "print(type(David))\n",
    "\n",
    "David[\"age\"] = 20\n",
    "print(David)"
   ]
  },
  {
   "cell_type": "markdown",
   "metadata": {},
   "source": [
    "So far, you have seen some examples of every standard data type. You should have known how to get the type of a value so far.\n",
    "\n",
    "\n",
    "For more information about variable types, you can go through this website: [Python3 Variable Types](https://www.tutorialspoint.com/python3/python_variable_types.htm). Moreover, an official complete manual is [Python3.8 Built-in Types](https://docs.python.org/3/library/stdtypes.html).\n",
    "\n",
    "(-6 mins)"
   ]
  },
  {
   "cell_type": "markdown",
   "metadata": {},
   "source": [
    "### Operations and Operators\n",
    "\n",
    "Python3 supports the following basic operators:\n",
    "\n",
    "- Arithmetic Operators\n",
    "- Assignment Operators\n",
    "- Comparison (Relational) Operators\n",
    "- Logical Operators\n",
    "- Bitwise Operators\n",
    "- Membership Operators\n",
    "- Identity Operators\n",
    "\n",
    "Let's use the following code to try different operators.\n",
    "\n",
    "Reference link: [Python 3 -Basic Operators](https://www.tutorialspoint.com/python3/python_basic_operators.htm).\n",
    "\n",
    "#### Arithmetic Operators"
   ]
  },
  {
   "cell_type": "code",
   "execution_count": null,
   "metadata": {},
   "outputs": [],
   "source": [
    "# Arithmetic Operators: + - * ** / // %\n",
    "print(2 + 3)\n",
    "print(2 - 3)\n",
    "print(2 * 3)\n",
    "print(2 ** 3)\n",
    "print(2 ** 4)\n",
    "print(2 ** 5) # Guess what is ** using the 3 examples above\n",
    "print(2 / 3)\n",
    "print(3 // 2)\n",
    "print(4 // 2)\n",
    "print(5 // 2)\n",
    "print(6 // 2) # Guess what is the difference between / and //\n",
    "print(3 % 2)\n",
    "print(4 % 2)\n",
    "print(5 % 2) # Guess what is %"
   ]
  },
  {
   "cell_type": "markdown",
   "metadata": {},
   "source": [
    "Not only can arithmetic operators apply to numbers, but also other types.\n",
    "\n",
    "For example, we can add two strings or multiply a string by a scalar. Use the following two examples to understand the special feature.\n",
    "\n",
    "For more special usage of arithmetic operators, you may go through the referencing links or search online."
   ]
  },
  {
   "cell_type": "code",
   "execution_count": null,
   "metadata": {},
   "outputs": [],
   "source": [
    "print(\"Hello\" + \" \" + \"World\")\n",
    "print(\"Hello \" * 3)"
   ]
  },
  {
   "cell_type": "markdown",
   "metadata": {},
   "source": [
    "(-10mins)"
   ]
  },
  {
   "cell_type": "markdown",
   "metadata": {},
   "source": [
    "#### Assignment Operators\n",
    "\n",
    "Assignment operators are used to assign values to variables. It is probably the most frequently used operators in Python, because our codes usually manipulate variables. There are several assignment operators.\n",
    "\n",
    "The most basic one is `=`, for example `David = 100` means we assign the value `100` to the variable `David`. There are 2 cases for the variable `David`. On the one hand, `David` may be previously defined. In this case, `David` will _forget_ what it previously contains and now contain the new value `100`. On the other hand, if `David` never appears before, then Python will initiate a new variable called `David` and set its value to `100`.\n",
    "\n",
    "Besides the basic `=`, Python also provides several operators that _update_ the variable's value. Here is a list of such operators:\n",
    "\n",
    "- `+=`\n",
    "- `-=`\n",
    "- `*=`\n",
    "- `/=`\n",
    "- `%=`\n",
    "- `**=`\n",
    "- `//=`\n",
    "\n",
    "I would like to briefly introduce the machanism of `+=`. The operator `+=` will **increase** the variable on the **left** hand side by the value on the **right**. For example, \n",
    "\n",
    "```python\n",
    "(1)\n",
    "David = 10\n",
    "(2)\n",
    "David += 20\n",
    "(3)\n",
    "```\n",
    "\n",
    "At point 1, `David` has not been initiated and it does not have a value. At point 2, `David` is 10 now. And at point 3, `David` becomes `10 + 20` which equals to `30`. If you can understand this, then you can extend the idea to other operators as well.\n",
    "\n",
    "##### Multiple Assignment\n",
    "\n",
    "Multiple assignment is a special feature supported by Python. It allows you to have multiple variables and values on both side of `=`. For example,\n",
    "\n",
    "```python\n",
    "a, b = 10, 20\n",
    "```\n",
    "\n",
    "In this example, we have 2 variables on the left side adn 2 values on the right side. As a consequence, `a`, `b` will be set as `10` and `20` respectively. To help you better understand this feature, you may run and think about the following codes."
   ]
  },
  {
   "cell_type": "code",
   "execution_count": null,
   "metadata": {},
   "outputs": [],
   "source": [
    "# Multiple Assignment Examples\n",
    "\n",
    "a = 10\n",
    "b = 1\n",
    "\n",
    "a, b = a * 2, b * 3\n",
    "# What is a, b now?\n",
    "print(a, b)\n",
    "\n",
    "a, b = a * 2, b * 3\n",
    "# What is a, b now?\n",
    "print(a, b)\n",
    "\n",
    "# Question: can b be greater than a after some iterations?"
   ]
  },
  {
   "cell_type": "markdown",
   "metadata": {},
   "source": [
    "Now, think about the following question by filling in some **codes** in the middle:\n",
    "\n",
    "We have variables `a` and `b`. How to exchange the values of `a` and `b`? Think as many solutions as you can! (Do not modify any provided codes!)"
   ]
  },
  {
   "cell_type": "code",
   "execution_count": null,
   "metadata": {},
   "outputs": [],
   "source": [
    "x, y = 10, 20 # Constants. Do not use them in your part of codes!\n",
    "\n",
    "a, b = x, y # Initialize variables a and b\n",
    "\n",
    "# Your Codes Here: How to exchange a and b? (You can have multiple lines of codes.) ---------------\n",
    "\n",
    "\n",
    "\n",
    "\n",
    "\n",
    "# End of Your Codes -------------------------------------------------------------------------------\n",
    "\n",
    "print(\"Supposed: \\ta: {}\\tb: {}\".format(y, x))\n",
    "print(\"Actual: \\ta: {}\\tb: {}\".format(a, b))\n",
    "if a == y and b == x:\n",
    "    print(\"Success!\")\n",
    "else:\n",
    "    print(\"Failure!\")"
   ]
  },
  {
   "cell_type": "markdown",
   "metadata": {},
   "source": [
    "(-20mins)\n",
    "\n",
    "#### Comparison Operators\n",
    "\n",
    "Use the following examples to understand different comparison operators."
   ]
  },
  {
   "cell_type": "code",
   "execution_count": null,
   "metadata": {},
   "outputs": [],
   "source": [
    "# Comparison Operators: == != > < >= <=\n",
    "# Note: Comparison Operations usually return Boolean (True / False) Value, \n",
    "# except for some operator overload examples, like comparing 2 vectors in numpy.\n",
    "\n",
    "print(1 == 1)\n",
    "print(1 != 1)\n",
    "print(2.5 < 3)\n",
    "print(2.5 <= 2.5) # <= represents no more than (smaller than or equal to)"
   ]
  },
  {
   "cell_type": "markdown",
   "metadata": {},
   "source": [
    "Is it valid to compare two lists or two strings? Yes!\n",
    "\n",
    "Can you guess what would happen for the following statements? What is the comparison based on? Please have a try on the following statements. Note that the last one will have TypeError. Think about the philosophy behind the comparisons."
   ]
  },
  {
   "cell_type": "code",
   "execution_count": null,
   "metadata": {},
   "outputs": [],
   "source": [
    "# Comparison between 2 strings\n",
    "\n",
    "print(\"abc\" < \"bcd\")\n",
    "print(\"abc\" < \"ab\")\n",
    "\n",
    "# Comparison between 2 lists\n",
    "\n",
    "print([1, 2, 3] < [2, 3, 4])\n",
    "print([1, 2] < [\"A\", \"B\"]) # Note: this will have TypeError."
   ]
  },
  {
   "cell_type": "markdown",
   "metadata": {},
   "source": [
    "You may wonder if there is a way to give element-wise comparison for two lists with the same length. One way is to use _list comprehension_ which we will discuss in the future tutorials. You can use the following example to have an impression of it. You may also go through this link for more information: [When to Use a List Comprehension in Python](https://realpython.com/list-comprehension-python/)."
   ]
  },
  {
   "cell_type": "code",
   "execution_count": null,
   "metadata": {},
   "outputs": [],
   "source": [
    "# List comprehension example for \"a < b\"\n",
    "a = [1, 2, 3]\n",
    "b = [2, 1, 3]\n",
    "result = [a[i] < b[i] for i in range(len(a))]\n",
    "print(result)"
   ]
  },
  {
   "cell_type": "markdown",
   "metadata": {},
   "source": [
    "(-23mins)\n",
    "\n",
    "##### Optional (Self-Study Part)\n",
    "Is there a simplier way that we can explictly use the operator \"<\"? Sure, but you need to install the package _numpy_ before hand. To install _numpy_,\n",
    "\n",
    "for Windows user:\n",
    "\n",
    "1. Open Terminal (Command Line)\n",
    "2. Type \"_pip install numpy_\" and wait.\n",
    "\n",
    "for Mac user:\n",
    "\n",
    "1. Open Terminal\n",
    "2. Type \"_pip3 install numpy_\" and wait.\n",
    "\n",
    "Then, you can try the following codes."
   ]
  },
  {
   "cell_type": "code",
   "execution_count": null,
   "metadata": {},
   "outputs": [],
   "source": [
    "import numpy as np # Here you import the library numpy as the name np\n",
    "a = [1, 2, 3]\n",
    "b = [2, 1, 3]\n",
    "a_np = np.array(a) # Transfer the built-in list into a numpy array type.\n",
    "b_np = np.array(b)\n",
    "print(a_np < b_np)"
   ]
  },
  {
   "cell_type": "markdown",
   "metadata": {},
   "source": [
    "### Type Conversions\n",
    "\n",
    "So far, we have learnt several types in Python. Different types support different operations. Sometimes, we may want to convert a variable into another type. Fortunately, Python provides powerful and handy type conversion functions.\n",
    "\n",
    "I would like to briefly introduce the conversions for numbers and strings. For other type conversions, you may search for them when you need."
   ]
  },
  {
   "cell_type": "code",
   "execution_count": null,
   "metadata": {},
   "outputs": [],
   "source": [
    "text1 = \"100\"\n",
    "number2 = 20.0\n",
    "\n",
    "# What is the type of text1 and number 2?\n",
    "print(type(text1))\n",
    "print(type(number2))\n",
    "print(\"-\"*30)\n",
    "\n",
    "# Convert into an integer: use int( )\n",
    "number1 = int(text1)\n",
    "print(number1)\n",
    "print(type(number1))\n",
    "print(\"-\"*30)\n",
    "\n",
    "# Convert into a string: use str( )\n",
    "text2 = str(number2)\n",
    "print(text2)\n",
    "print(type(text2))\n",
    "print(\"-\"*30)\n",
    "\n",
    "# Question: If I want to have a string \"20\", how to get it from number2? \n",
    "# Store the result in text3.\n",
    "\n",
    "text3 = \"\"\n",
    "\n",
    "# Your Codes Here ------------------------------------------------------\n",
    "\n",
    "\n",
    "\n",
    "\n",
    "# End of your codes ----------------------------------------------------\n",
    "\n",
    "print(\"Supposed:\\t text3: 20\\t type: <class 'str'>\")\n",
    "print(\"Actual:\\t\\t text3: {}\\t type: {}\".format(text3, type(text3)))\n",
    "if text3 == \"20\":\n",
    "    print(\"Success!\")\n",
    "else:\n",
    "    print(\"Failure!\")"
   ]
  },
  {
   "cell_type": "markdown",
   "metadata": {},
   "source": [
    "(-26mins)"
   ]
  },
  {
   "cell_type": "markdown",
   "metadata": {},
   "source": [
    "#### Input and Output\n",
    "\n",
    "Input and output is essential for a Python program. Input means we have our data from the keyboard or files and output means we output our data to the screen or files. I/O makes our program _reusable_!\n",
    "\n",
    "The standard input for Python is the function `input( )`. This function gets some inputs from the keyboard and it returns the value as a **string**. It also provides an optional prompt, which is printed before the input.\n",
    "\n",
    "Besides, Python provides the function `print( )` to print some values. You can put as many arguments as you like inside and Python will print all of them to the screen. By default, Python will print a new line at the end. Interestingly, you can control the formats such as seperators and end.\n",
    "\n",
    "Go through the following examples to have a better understanding."
   ]
  },
  {
   "cell_type": "code",
   "execution_count": null,
   "metadata": {},
   "outputs": [],
   "source": [
    "# Example of input a string\n",
    "name = input(\"Give me your name: \")\n",
    "print(type(name))\n",
    "print(\"Your name is \" + name)"
   ]
  },
  {
   "cell_type": "code",
   "execution_count": null,
   "metadata": {},
   "outputs": [],
   "source": [
    "# Wrong Example of input 2 numbers a, b and add them\n",
    "a = input(\"The first number a: \")\n",
    "b = input(\"The second number b: \")\n",
    "print(type(a), type(b))\n",
    "print(\"a + b =\", a + b)"
   ]
  },
  {
   "cell_type": "code",
   "execution_count": null,
   "metadata": {},
   "outputs": [],
   "source": [
    "# The above is a wrong example! How to solve it?\n",
    "a = input(\"The first number a: \")\n",
    "b = input(\"The second number b: \")\n",
    "a = int(a)\n",
    "b = int(b)\n",
    "print(type(a), type(b))\n",
    "print(\"a + b =\", a + b)"
   ]
  },
  {
   "cell_type": "code",
   "execution_count": null,
   "metadata": {},
   "outputs": [],
   "source": [
    "# It seems the problem has been solved\n",
    "# But what if we input two real numbers like 1.0 and 2.0?\n",
    "# The following one is a better version!\n",
    "a = input(\"The first number a: \")\n",
    "b = input(\"The second number b: \")\n",
    "a = float(a)\n",
    "b = float(b)\n",
    "print(type(a), type(b))\n",
    "print(\"a + b =\", a + b)"
   ]
  },
  {
   "cell_type": "code",
   "execution_count": null,
   "metadata": {
    "scrolled": true
   },
   "outputs": [],
   "source": [
    "# Moreover, we can have a better look by refactoring the codes as follows\n",
    "a = float(input(\"The first number a: \")) # It transfers the input to float as soon we get the input.\n",
    "b = float(input(\"The second number b: \"))\n",
    "\n",
    "print(type(a), type(b))\n",
    "print(\"a + b =\", a + b)"
   ]
  },
  {
   "cell_type": "markdown",
   "metadata": {},
   "source": [
    "Let's have a look at what we have learnt so far:\n",
    "\n",
    "- [Variables and Values](#variables-and-values)\n",
    "- [Types of Values](#types-of-values)\n",
    "- [Operations and Operators](#operations-and-operators)\n",
    "- [Type Conversions](#type-conversions)\n",
    "- [Input and Output](#input-and-output)\n",
    "\n",
    "Now, we would have an exercise for 10 mins. Please try your best to write the codes. If you have any questions, feel free to ask now.\n",
    "\n",
    "### Exercise 1\n",
    "\n",
    "This exercise consists of 3 tasks:\n",
    "\n",
    "1. Create a program that asks users to enter their names and ages. Print out a message that tells them the year when they turn 100 years old.\n",
    "2. Ask the user for a number of times that they wish to repeat that message. Then print out that many copies of the previous message.\n",
    "3. Print out every message on a new line. (Hint: the string \"\\n\" is the same as pressing the ENTER button).\n",
    "\n",
    "(-40mins)"
   ]
  },
  {
   "cell_type": "markdown",
   "metadata": {},
   "source": [
    "## Part 2\n",
    "\n",
    "### Conditional Statement\n",
    "\n",
    "Conditional statements make you possible to _jump through_ code segments with conditions. One of the conditional statement is **if - else - elif**.\n",
    "\n",
    "```python\n",
    "if condition1: # Don't forget :\n",
    "    # If condition1 is True, execute the following -------------\n",
    "    Some codes here\n",
    "    \n",
    "    # Then, exit the whole \"if\" statement ----------------------\n",
    "    \n",
    "elif condition2:\n",
    "    # If condition1 fails and condition2 is True ---------------\n",
    "    Some codes here\n",
    "    \n",
    "    # Then, exit the whole \"if\" statement ----------------------\n",
    "else:\n",
    "    # If all conditions above fail -----------------------------\n",
    "    Some codes here\n",
    "    \n",
    "    # Finally, exit the whole \"if\" statement -------------------\n",
    "```\n",
    "\n",
    "Note that, the first `if` is **required**. However, the `elif` and `else` are optional and may have multiple `elif` or `else`.\n",
    "\n",
    "Use the following example to understand the usage of conditional statements."
   ]
  },
  {
   "cell_type": "code",
   "execution_count": null,
   "metadata": {},
   "outputs": [],
   "source": [
    "age = int(input(\"Your age:\"))\n",
    "if age > 17:\n",
    "    print(\"You can see rated R movies.\")\n",
    "elif age <= 17 and age > 12: \n",
    "    # elif = else + if\n",
    "    print(\"You can see rated PG‐13 movies.\")\n",
    "else:\n",
    "    print(\"You can only see rated PG movies.\")"
   ]
  },
  {
   "cell_type": "markdown",
   "metadata": {},
   "source": [
    "Question: is _age < 17_ in the 4th line redundant? That is, can we modify our codes as follows?"
   ]
  },
  {
   "cell_type": "code",
   "execution_count": null,
   "metadata": {},
   "outputs": [],
   "source": [
    "age = int(input(\"Your age:\"))\n",
    "if age > 17:\n",
    "    print(\"You can see rated R movies.\")\n",
    "elif age > 12: \n",
    "    # elif = else + if\n",
    "    print(\"You can see rated PG‐13 movies.\")\n",
    "else:\n",
    "    print(\"You can only see rated PG movies.\")"
   ]
  },
  {
   "cell_type": "markdown",
   "metadata": {},
   "source": [
    "You may test your codes with some selected examples. Think about some sample values that you can use to test the correctness of the codes above.\n",
    "\n",
    "Here are some possible test cases. Because our if statement separates the domain of age into 3 parts: >17, between 12 and 17, and below 12, we may have a sample for each part as well as the breaking points. For example, you may test with age equal to:\n",
    "\n",
    "- 18\n",
    "- 17\n",
    "- 16\n",
    "- 12\n",
    "- 11\n",
    "\n",
    "If all these 5 samples pass, then your program should be correct.\n",
    "\n",
    "Testing is an essential part for software development. If you are interested, you can go through [Python3 unittest](https://docs.python.org/3/library/unittest.html) to see how to do unit test in Python.\n",
    "\n",
    "(-45mins)"
   ]
  },
  {
   "cell_type": "markdown",
   "metadata": {},
   "source": [
    "##### Oneline If Statement\n",
    "\n",
    "Moreover, Python supports a kind of _oneline_ if statement. It is very convenient to write the code if your condition is short and you would like to assign a value based on the condition. For example, the codes above may be modified as the following:"
   ]
  },
  {
   "cell_type": "code",
   "execution_count": null,
   "metadata": {},
   "outputs": [],
   "source": [
    "age = int(input(\"Your age:\"))\n",
    "result = \"\"\n",
    "result = \"You can see a rated R movie\" if age > 17 else result\n",
    "result = \"You can see a rated PG‐13 movie\" if age <= 17 and age > 12 else result\n",
    "result = \"You can only see rated PG movies\" if age <= 12 else result\n",
    "print(result)"
   ]
  },
  {
   "cell_type": "markdown",
   "metadata": {},
   "source": [
    "It can be simplified as the following:"
   ]
  },
  {
   "cell_type": "code",
   "execution_count": null,
   "metadata": {},
   "outputs": [],
   "source": [
    "age = int(input(\"Your age:\"))\n",
    "result = \"You can see a rated R movie\" if age > 17 else (\"You can see a rated PG‐13 movie\" if age > 12 else (\"You can only see rated PG movies\"))\n",
    "print(result)"
   ]
  },
  {
   "cell_type": "markdown",
   "metadata": {},
   "source": [
    "Furthermore, it can be more beautiful:"
   ]
  },
  {
   "cell_type": "code",
   "execution_count": null,
   "metadata": {},
   "outputs": [],
   "source": [
    "age = int(input(\"Your age:\"))\n",
    "result = \"You can see a rated R movie\" if age > 17 \\\n",
    "    else (\"You can see a rated PG‐13 movie\" if age > 12 \\\n",
    "    else (\"You can only see rated PG movies\"))\n",
    "print(result)"
   ]
  },
  {
   "cell_type": "markdown",
   "metadata": {},
   "source": [
    "The oneline if statement must be written in one line. However, the symbol \\ in Python is used to connect 2 lines into a single line. Actually, what Python sees is exactly the **same** as the oneline one. The symbol \\ connecting 2 lines help the programmers to see more **clearly**.\n",
    "\n",
    "### Exercise 2\n",
    "\n",
    "Now, use 10 minutes to complete the following tasks:\n",
    "\n",
    "- Ask the user for a number. Print out a message to tell the user whether the number is even or odd. (Hint: what is different when an even / odd number is divided by 2?)\n",
    "- If the number is a multiple of 4, print a different message.\n",
    "- Ask the user for two numbers: one is the numerator (call it _num_) and the other is the denominator (call it _check_). If _check_ divides evenly into _num_, tell the user; if not, print a different message.\n",
    "\n",
    "If you have any questions, you can ask now.\n",
    "\n",
    "(-65mins)"
   ]
  },
  {
   "cell_type": "markdown",
   "metadata": {},
   "source": [
    "## Part 3"
   ]
  },
  {
   "cell_type": "markdown",
   "metadata": {},
   "source": [
    "### String\n",
    "\n",
    "String is an immutable type. We use `' ... '` or `\" ... \"` to quote a string. If we want to have a string of multiple lines, we can use `\"\"\" ... \"\"\"`. For example,"
   ]
  },
  {
   "cell_type": "code",
   "execution_count": null,
   "metadata": {},
   "outputs": [],
   "source": [
    "prompt = \"\"\"\n",
    "Hello!\n",
    "Welcome to CSC1002!\n",
    "\"\"\"\n",
    "\n",
    "print(prompt)"
   ]
  },
  {
   "cell_type": "markdown",
   "metadata": {},
   "source": [
    "You are allowed to add two strings to connect them. However, you cannot subtract a string.\n",
    "\n",
    "You can have formatted string using a built-in method `format`. The usage is `string.format( variables )`. I would like to give you some examples."
   ]
  },
  {
   "cell_type": "code",
   "execution_count": null,
   "metadata": {},
   "outputs": [],
   "source": [
    "# Example 1: Ask for a name and greet\n",
    "name = input(\"Hello. What's your name please: \")\n",
    "print(\"\"\"\n",
    "Oh, {}!\n",
    "Have a nice day!\n",
    "\"\"\".format(name))"
   ]
  },
  {
   "cell_type": "markdown",
   "metadata": {},
   "source": [
    "In the above example, we get a `name` from the input. Then, inside the `print` function we have a string \n",
    "\n",
    "`\"\"\"\n",
    "Oh, {}!\n",
    "Have a nice day!\n",
    "\"\"\"`\n",
    "\n",
    "Note that, in the format function, we use `{}` (braces) to represent a variable. By calling `format`, the string will replace `{}` with the variable provided in the `format( variables )`. In this example, the `{}` matches with the variable `name`.\n",
    "\n",
    "If you have more variables, then your multiple `{}` will match with the variables one by one. For example,"
   ]
  },
  {
   "cell_type": "code",
   "execution_count": null,
   "metadata": {},
   "outputs": [],
   "source": [
    "# Example 2: Ask for a name and age\n",
    "name = input(\"Hello. What's your name please: \")\n",
    "print(\"\"\"\n",
    "Oh, {}!\n",
    "\"\"\".format(name))\n",
    "\n",
    "age = int(input(\"May I ask your age: \"))\n",
    "result = \"You can see a rated R movie.\" if age > 17 \\\n",
    "    else (\"You can see a rated PG‐13 movie.\" if age > 12 \\\n",
    "    else (\"You can only see rated PG movies.\"))\n",
    "print(\"\"\"\n",
    "Since you are {} years old,\n",
    "{}\"\"\".format(age, result))"
   ]
  },
  {
   "cell_type": "markdown",
   "metadata": {},
   "source": [
    "Moreover, you can control the format of floating numbers as well!"
   ]
  },
  {
   "cell_type": "code",
   "execution_count": null,
   "metadata": {},
   "outputs": [],
   "source": [
    "# Example 3: padding numbers\n",
    "dividend = float(input(\"Dividend: \"))\n",
    "divider = float(input(\"Divider: \"))\n",
    "quotient, remainder = dividend // divider, dividend % divider\n",
    "result = dividend / divider\n",
    "\n",
    "print(\"\"\"Normal Result:\n",
    "{} ÷ {} = {} ... {}\n",
    "{} ÷ {} = {}\"\"\".format(dividend, divider, quotient, remainder, dividend, divider, result))\n",
    "\n",
    "print(\"\"\"Formatted Result:\n",
    "{:.2f} ÷ {:.2f} = {:.0f} ... {:.0f}\n",
    "{:.2f} ÷ {:.2f} = {:.2f}\"\"\".format(dividend, divider, quotient, remainder, dividend, divider, result))"
   ]
  },
  {
   "cell_type": "markdown",
   "metadata": {},
   "source": [
    "For more fancy formats, you can go through this link: [PyFormat](https://pyformat.info/).\n",
    "\n",
    "(-70mins)\n",
    "\n",
    "### List\n",
    "\n",
    "List is a type containing a sequence of elements. The elements in a list can have different types. We can `append` or `remove` elements to / from a list.\n",
    "\n",
    "To declare a list, we use the syntax: `[...]`. For example, `[1, 2, 3]` represents a list with 3 elements `1, 2, 3`. We can also append or remove elements from a list."
   ]
  },
  {
   "cell_type": "code",
   "execution_count": null,
   "metadata": {},
   "outputs": [],
   "source": [
    "li = [1, 2, 3]\n",
    "print(li)\n",
    "\n",
    "li.append(4)\n",
    "print(li)\n",
    "\n",
    "li.remove(3)\n",
    "print(li)\n",
    "\n",
    "li.append(1)\n",
    "print(li)\n",
    "\n",
    "li.remove(1)\n",
    "print(li)\n",
    "\n",
    "li.remove(3)"
   ]
  },
  {
   "cell_type": "markdown",
   "metadata": {},
   "source": [
    "Interestingly, the remove method will only remove the first matched one, but not all. If element is not in the list, then `remove` will give an Error.\n",
    "\n",
    "To check if an element is in a list, use `in`."
   ]
  },
  {
   "cell_type": "code",
   "execution_count": null,
   "metadata": {},
   "outputs": [],
   "source": [
    "li = [1, 2, 3]\n",
    "print(li)\n",
    "\n",
    "if 3 in li:\n",
    "    li.remove(3)\n",
    "    print(li)\n",
    "else:\n",
    "    print(\"3 is not in li\")\n",
    "    \n",
    "if 3 in li:\n",
    "    li.remove(3)\n",
    "    print(li)\n",
    "else:\n",
    "    print(\"3 is not in li\")"
   ]
  },
  {
   "cell_type": "markdown",
   "metadata": {},
   "source": [
    "To get the length of a list, we can use the function `len`. For example, `len(li)` will return the length of `li`.\n",
    "\n",
    "We can get an element using the index. In Python, the index starts from **0**. For example, if you want to get the first element, you should use `li[0]`. More interestingly, we can have negative indeces in Python. It means we count from the end. For example, the last element is `li[-1]`. Therefore, the index range is from `-len(li)` to `len(li)-1`!"
   ]
  },
  {
   "cell_type": "code",
   "execution_count": null,
   "metadata": {},
   "outputs": [],
   "source": [
    "li = [1, 2, 3]\n",
    "\n",
    "print(li)\n",
    "print(\"Length: {}\".format(len(li)))\n",
    "print(\"li[{}] = {}  li[{}] = {}\".format(0, li[0], -3, li[-3]))\n",
    "print(\"li[{}] = {}  li[{}] = {}\".format(1, li[1], -3, li[-2]))\n",
    "print(\"li[{}] = {}  li[{}] = {}\".format(2, li[2], -3, li[-1]))"
   ]
  },
  {
   "cell_type": "markdown",
   "metadata": {},
   "source": [
    "(-75mins)\n",
    "\n",
    "### Range\n",
    "\n",
    "`Range` function is useful to generate a \"list\" of integers. You can easily convert a `range` result into a list using `list`. The usage of `range( ... )` have 3 cases:\n",
    "\n",
    "1. `range(end)`: generate 0, 1, 2, ..., up to but **exclude** end\n",
    "2. `range(start, end)`: generate start, start+1, ..., up to but **exclude** end\n",
    "3. `range(start, end, step)`: generate start, start+step, start+2\\*step, ..., up to but **exclude** end number **smaller** than end\n",
    "\n",
    "Let's see the examples."
   ]
  },
  {
   "cell_type": "code",
   "execution_count": null,
   "metadata": {},
   "outputs": [],
   "source": [
    "r = range(10)\n",
    "li = list(r)\n",
    "print(\"r: {} \\t\\t\\ttype: {}\".format(r, type(r)))\n",
    "print(\"li: {} \\ttype: {}\".format(li, type(li)))\n",
    "print(\"length of r: {}  \\nlength of li: {}\".format(len(r), len(li)))\n",
    "\n",
    "print()\n",
    "\n",
    "r = range(1, -10, -2)\n",
    "li = list(r)\n",
    "print(li)"
   ]
  },
  {
   "cell_type": "markdown",
   "metadata": {},
   "source": [
    "(-80mins)\n",
    "\n",
    "### For Loop\n",
    "\n",
    "For loop is an important statement in Python. It helps you to iterate a string, list, range, or other iterators.\n",
    "\n",
    "The syntax of `for` loop is `for VARIABLE in ITERATOR:`. When using `for` loop, Python will iterate along all elements in the `ITERATOR` and assign the value to `VARIABLE`. For example,"
   ]
  },
  {
   "cell_type": "code",
   "execution_count": null,
   "metadata": {},
   "outputs": [],
   "source": [
    "# Print 0, 1, 2, ..., 9\n",
    "for i in [0, 1, 2, 3, 4, 5, 6, 7, 8, 9]:\n",
    "    print(i)"
   ]
  },
  {
   "cell_type": "markdown",
   "metadata": {},
   "source": [
    "Moreover, we can take advantage of `range` to simplify our code:"
   ]
  },
  {
   "cell_type": "code",
   "execution_count": null,
   "metadata": {},
   "outputs": [],
   "source": [
    "# Print 0, 1, 2, ..., 9\n",
    "for i in range(10):\n",
    "    print(i)"
   ]
  },
  {
   "cell_type": "markdown",
   "metadata": {},
   "source": [
    "We can also iterate along a string:"
   ]
  },
  {
   "cell_type": "code",
   "execution_count": null,
   "metadata": {},
   "outputs": [],
   "source": [
    "for i in \"Hello\":\n",
    "    print(i)"
   ]
  },
  {
   "cell_type": "markdown",
   "metadata": {},
   "source": [
    "Sometimes, we want to get both the index and the element. Here I provide 2 ways to do this.\n",
    "\n",
    "The first one is using `range` and `len` to iterate through all indices. The second one is using `enumerate` function, which is similar to a _double assignment_. It will return 2 values. The first one is the index and the second one is the element. Either way is good!"
   ]
  },
  {
   "cell_type": "code",
   "execution_count": null,
   "metadata": {},
   "outputs": [],
   "source": [
    "li = \"abcde\"\n",
    "# Way 1\n",
    "for i in range(len(li)):\n",
    "    print(\"Index: {}  Element: {}\".format(i, li[i]))\n",
    "\n",
    "print()\n",
    "\n",
    "# Way 2\n",
    "for i, element in enumerate(li):\n",
    "    print(\"Index: {}  Element: {}\".format(i, element))"
   ]
  },
  {
   "cell_type": "markdown",
   "metadata": {},
   "source": [
    "### Exercise 3\n",
    "\n",
    "Ask the user for a string . Print out whether it is a palindrome or not. A palindrome is a string that reads the same forwards and backwards. For example, `\"abcde\"` is not but `\"abcba\"` and `\"abccba\"` are palindrome."
   ]
  },
  {
   "cell_type": "markdown",
   "metadata": {},
   "source": [
    "# Extra Exercises\n",
    "\n",
    "## Extra Exercise 1. \n",
    "\n",
    "Input a list of numbers `li` and a number `x`; output all numbers within the list except `x`. You may have different solutions.\n",
    "\n",
    "## Extra Exercise 2.\n",
    "\n",
    "Write a program to solve the following tasks. The previous tasks should help solve the latter ones.\n",
    "\n",
    "- Input a number `n`.\n",
    "- Check if `n` is a positive integer. If not, print out an error message and abort; otherwise, continue.\n",
    "- Input `n` numbers and store them inside a list `data`.\n",
    "- Initialize a new list `sorted_data`.\n",
    "- Find out the minimum value in `data`, copy it to `sorted_data`, and remove it from `data`.\n",
    "- Do the above operation for totally `n` times.\n",
    "- Print out the sorted result using the following format (change the actual number as what you get in `sorted_data`). \n",
    "\n",
    "```\n",
    "Sorted Result:\n",
    "- 1\n",
    "- 2\n",
    "- 3\n",
    "\n",
    "In total 3 numbers.\n",
    "```\n",
    "\n",
    "You are welcome to share your solutions with each other. I will give a sample solution in the next tutorial."
   ]
  },
  {
   "cell_type": "markdown",
   "metadata": {},
   "source": [
    "# Supplemental Contents\n",
    "\n",
    "Try to learn these contents yourself. You should be able to understand the following program if you fully understand them.\n",
    "\n",
    "- [More String Funtions](https://www.tutorialspoint.com/python3/python_strings.htm)\n",
    "- [List Slicing](https://stackoverflow.com/questions/509211/understanding-slice-notation)"
   ]
  },
  {
   "cell_type": "code",
   "execution_count": null,
   "metadata": {},
   "outputs": [],
   "source": [
    "# For a given string, split the words by \" \". Count the number of words. Lowercase all letters.\n",
    "# Then count the number of distinct words.\n",
    "\n",
    "string = \"\"\"\n",
    "Dear students:\n",
    "\n",
    " \n",
    "\n",
    "Subject to the current situation regarding the novel coronavirus, the following decisions have been made in line with the requirements of Guangdong and Shenzhen governments:\n",
    "\n",
    " \n",
    "\n",
    "1. The spring semester 2019-2020 will start no earlier than February 24th. Please wait for further notice of the specific starting date. \n",
    "\n",
    " \n",
    "\n",
    "2. Students who are currently away from the campus, including undergraduate and postgraduate students, are strictly prohibited from returning to the campus before the semester begins. Under special circumstances in need, application must be submitted to the college at least one day in advance, and entrance is permitted only after approval by the university.\n",
    "\n",
    " \n",
    "\n",
    "3. Students currently residing on campus must submit written application to the college office and wait for approval if they need to leave the campus for a short period (within 12 hours) due to compelling reasons. Anyone leaving the campus for more than 12 hours or without proper application and approval will not be allowed to enter the campus until the semester begins.\n",
    "\n",
    "Under the current unusually difficult circumstances, your understanding and support will be much needed and highly appreciated.\n",
    "\n",
    " \n",
    "\n",
    "The Chinese University of Hong Kong, Shenzhen\n",
    "\n",
    "January 29, 2020\"\"\"\n",
    "\n",
    "words = string.split()\n",
    "\n",
    "num_words = len(words)\n",
    "\n",
    "lower_words = []\n",
    "for word in words:\n",
    "    lower_words.append(word.lower())\n",
    "\n",
    "distinct_words = []\n",
    "for word in lower_words:\n",
    "    if word not in distinct_words:\n",
    "        distinct_words.append(word)\n",
    "        \n",
    "num_distinct_words = len(distinct_words)\n",
    "\n",
    "print(\"\"\"\n",
    "Total number of words: {}\n",
    "Total number of distinct words: {}\"\"\".format(num_words, num_distinct_words))"
   ]
  },
  {
   "cell_type": "markdown",
   "metadata": {},
   "source": [
    "If you are interested, you can also go through the following contents by searching online:\n",
    "\n",
    "- **Jupyter Notebook**: Jupyter notebook is an IDE that you can integrate the codes and markdown notes. It is very convenient to write tutorials and share codes. It is frequently used in Data Science applications.\n",
    "- **Markdown**: Markdown is a formating language that is easy to use. It can be exported as HTML (Website), PDF, and etc."
   ]
  },
  {
   "cell_type": "markdown",
   "metadata": {},
   "source": [
    "# References\n",
    "\n",
    "1. [Python3.8 Built-in Types](https://docs.python.org/3/library/stdtypes.html)\n",
    "2. [Python 3 - Variable Types](https://www.tutorialspoint.com/python3/python_variable_types.htm)\n",
    "3. [Python 3 -Basic Operators](https://www.tutorialspoint.com/python3/python_basic_operators.htm)\n",
    "4. [When to Use a List Comprehension in Python](https://realpython.com/list-comprehension-python/)\n",
    "5. [Python3 unittest](https://docs.python.org/3/library/unittest.html)\n",
    "6. [PyFormat](https://pyformat.info/)"
   ]
  }
 ],
 "metadata": {
  "kernelspec": {
   "display_name": "Python 3",
   "language": "python",
   "name": "python3"
  },
  "language_info": {
   "codemirror_mode": {
    "name": "ipython",
    "version": 3
   },
   "file_extension": ".py",
   "mimetype": "text/x-python",
   "name": "python",
   "nbconvert_exporter": "python",
   "pygments_lexer": "ipython3",
   "version": "3.6.2"
  }
 },
 "nbformat": 4,
 "nbformat_minor": 2
}
